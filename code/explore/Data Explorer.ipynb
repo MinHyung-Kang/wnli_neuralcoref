{
 "cells": [
  {
   "cell_type": "code",
   "execution_count": 2,
   "metadata": {},
   "outputs": [],
   "source": [
    "%load_ext autoreload\n",
    "%autoreload 2"
   ]
  },
  {
   "cell_type": "code",
   "execution_count": 3,
   "metadata": {},
   "outputs": [],
   "source": [
    "import json\n",
    "import pandas as pd\n",
    "import numpy as np\n",
    "import spacy\n",
    "import inflect\n",
    "from string import punctuation\n",
    "\n",
    "inflect = inflect.engine()\n",
    "\n",
    "data_path = \"./../../data/\""
   ]
  },
  {
   "cell_type": "code",
   "execution_count": 4,
   "metadata": {},
   "outputs": [],
   "source": [
    "nlp_lg = spacy.load('en_coref_lg')\n",
    "nlp = nlp_lg"
   ]
  },
  {
   "cell_type": "markdown",
   "metadata": {},
   "source": [
    "### SNLI"
   ]
  },
  {
   "cell_type": "markdown",
   "metadata": {},
   "source": [
    "#### Load SNLI data, and use only entailment cases"
   ]
  },
  {
   "cell_type": "code",
   "execution_count": 5,
   "metadata": {},
   "outputs": [],
   "source": [
    "snli_train_tsv = data_path +'snli/snli_1.0_train.txt'\n",
    "snli_dev_tsv = data_path +'snli/snli_1.0_dev.txt'\n",
    "\n",
    "snli_train_data = pd.read_csv(snli_train_tsv,delimiter='\\t',encoding='utf-8')\n",
    "snli_dev_data = pd.read_csv(snli_dev_tsv,delimiter='\\t',encoding='utf-8')\n",
    "\n",
    "snli_train_data = snli_train_data[['gold_label', 'sentence1', 'sentence2']]\n",
    "snli_dev_data = snli_dev_data[['gold_label', 'sentence1', 'sentence2']]"
   ]
  },
  {
   "cell_type": "code",
   "execution_count": 6,
   "metadata": {},
   "outputs": [],
   "source": [
    "snli_dev_data_entail = snli_dev_data.loc[snli_dev_data['gold_label'] == 'entailment']\n",
    "snli_train_data_entail = snli_train_data.loc[snli_train_data['gold_label'] == 'entailment']"
   ]
  },
  {
   "cell_type": "code",
   "execution_count": 148,
   "metadata": {},
   "outputs": [],
   "source": [
    "# This is a noisy, hand-labeled pronoun-dictionary\n",
    "with open(data_path + \"pronoun_dict\", 'r') as f:\n",
    "    pronoun_dict = json.load(f)"
   ]
  },
  {
   "cell_type": "code",
   "execution_count": 99,
   "metadata": {},
   "outputs": [],
   "source": [
    "import sys\n",
    "sys.path.append(\"./../\")\n",
    "\n",
    "from snli_parser import SNLI_PARSER\n",
    "\n",
    "snli_parser = SNLI_PARSER(nlp_lg, pronoun_dict)"
   ]
  },
  {
   "cell_type": "code",
   "execution_count": 145,
   "metadata": {},
   "outputs": [
    {
     "data": {
      "text/plain": [
       "(3329, 3)"
      ]
     },
     "execution_count": 145,
     "metadata": {},
     "output_type": "execute_result"
    }
   ],
   "source": [
    "snli_dev_data_entail.shape"
   ]
  },
  {
   "cell_type": "markdown",
   "metadata": {},
   "source": [
    "#### Generate a WNLI-style dataset"
   ]
  },
  {
   "cell_type": "code",
   "execution_count": 101,
   "metadata": {
    "scrolled": true
   },
   "outputs": [
    {
     "name": "stdout",
     "output_type": "stream",
     "text": [
      "100\n",
      "200\n",
      "300\n",
      "400\n",
      "500\n",
      "600\n",
      "700\n",
      "800\n",
      "900\n",
      "1000\n",
      "1100\n",
      "1200\n",
      "1300\n",
      "1400\n",
      "1500\n",
      "1600\n",
      "1700\n",
      "1800\n",
      "1900\n",
      "2000\n",
      "2100\n",
      "2200\n",
      "2300\n",
      "2400\n",
      "2500\n",
      "2600\n",
      "2700\n",
      "2800\n",
      "2900\n",
      "3000\n",
      "3100\n",
      "3200\n",
      "3300\n"
     ]
    }
   ],
   "source": [
    "ENTAILMENT = 1\n",
    "NOT_ENTAILMENT = 0\n",
    "\n",
    "sentence1_list = []\n",
    "sentence2_list = []\n",
    "label_list = []\n",
    "counter = 0\n",
    "\n",
    "for ind, row in snli_dev_data_entail.iterrows():\n",
    "    \n",
    "    result = snli_parser.augment(row['sentence1'], row['sentence2'])\n",
    "    if result is not None:\n",
    "        (new_sent1, true_example, false_examples) = result\n",
    "        \n",
    "        # Save entailment results\n",
    "        sentence1_list.append(new_sent1)\n",
    "        sentence2_list.append(true_example)\n",
    "        label_list.append(ENTAILMENT)\n",
    "        \n",
    "        # Save false entailment results\n",
    "        sentence1_list.extend([new_sent1] * len(false_examples))\n",
    "        sentence2_list.extend(false_examples)\n",
    "        label_list.extend([NOT_ENTAILMENT] * len(false_examples))\n",
    "    \n",
    "    counter += 1\n",
    "    if counter % 100 == 0:\n",
    "        print(counter)\n",
    "        \n",
    "snli_dev_df = pd.DataFrame(list(zip(sentence1_list, sentence2_list, label_list)), columns=['sentence1','sentence2','label'])"
   ]
  },
  {
   "cell_type": "markdown",
   "metadata": {},
   "source": [
    "#### Get some examples of our dataset"
   ]
  },
  {
   "cell_type": "code",
   "execution_count": 149,
   "metadata": {
    "scrolled": true
   },
   "outputs": [
    {
     "name": "stdout",
     "output_type": "stream",
     "text": [
      "A woman walks by a brick building that's covered with graffiti. She is outside.\n",
      "A woman is outside.\n",
      "1\n",
      "A kid in a red and black coat is laying on his back in the snow with his arm in the air and a red sled is next to him. It is a cold day.\n",
      "Coat is a cold day.\n",
      "0\n",
      "A brunette woman in a multicolored floral outfit and a pearl necklace is talking while holding a wineglass. She holds a glass\n",
      "A woman holds a glass\n",
      "1\n",
      "A young man plays a racing video game. He is staring at a screen\n",
      "A young man is staring at a screen\n",
      "1\n",
      "Man in leather jacket reading a book. He is reading\n",
      "A man is reading\n",
      "1\n",
      "Several toddlers in a room with many toys, a yellow lamp, a window, gray carpeting and paintings. They are in a room with many toys, a yellow lamp, a window, gray carpeting and paintings.\n",
      "Several toddlers are in a room with many toys, a yellow lamp, a window, gray carpeting and paintings.\n",
      "1\n",
      "The kid is wearing a blue jacket and standing in shallow beach water. He is at the beach.\n",
      "The kid is at the beach.\n",
      "1\n",
      "A man trying to block another man from shooting the ball in. He is is near the ball.\n",
      "The man is is near the ball.\n",
      "1\n",
      "A man in glasses and a striped shirt walks down the street with one hand in his pocket. He is walking somewhere\n",
      "A man is walking somewhere\n",
      "1\n",
      "A young boy with sandy blond-hair and white and black soccer uniform kicking for the goal while parents look on. He has blond hair.\n",
      "The boy has blond hair.\n",
      "1\n",
      "Two elderly men are sitting on a boat that appears to be traveling down a river in the middle of the forest. They are sitting on a boat\n",
      "Two men are sitting on a boat\n",
      "1\n",
      "A man in his skateboard jumping over a grocery cart as his friends in the back watch. He has friends.\n",
      "The man has friends.\n",
      "1\n",
      "a group of four people conversing next to a bus It of people are talking near a vehicle.\n",
      "A group of people are talking near a vehicle.\n",
      "1\n",
      "Young man with a beard is sitting on the edge of the bed reading a manual. He is learning something.\n",
      "He is learning something.\n",
      "1\n",
      "A man skateboarding at a skateboarding park which is covered in graffiti. He is skateboarding.\n",
      "A man is skateboarding.\n",
      "1\n",
      "Three women and one man are sitting on a ledge facing away towards a large window. They are sitting on a ledge.\n",
      "Some people are sitting on a ledge.\n",
      "1\n",
      "A man and a woman hug on a street. He and woman hug.\n",
      "A man and woman hug.\n",
      "1\n",
      "A white-haired conductor is standing in front of an orchestra which is also standing, instruments in hand. He and orchestra are not sitting.\n",
      "The conductor and orchestra are not sitting.\n",
      "1\n",
      "A man, dressed in a green shirt with black pants, is transporting luggage strapped to a wheelbarrow, down a cobblestone road. It is green.\n",
      "Wheelbarrow is green.\n",
      "0\n",
      "A young boy riding on the shoulders of a man outdoors. He has a yound boy on his shoulders outside.\n",
      "A man has a yound boy on his shoulders outside.\n",
      "1\n",
      "People are gathered around the table filled with food. It sits down for a meal.\n",
      "Food sits down for a meal.\n",
      "0\n",
      "A young boy is in an overgrown field with a toy lawn mower. He is in an overgrown field with a toy.\n",
      "A boy is in an overgrown field with a toy.\n",
      "1\n",
      "A man drags a young boy in swim trunks into the surf at what appears to be a beach in a tropical location. He and boy are in a body of water.\n",
      "A man and boy are in a body of water.\n",
      "1\n",
      "A woman wearing a blue hairnet and apron talks over her shoulder as she grasps a plastic pitcher. She is wearing a hairnet.\n",
      "A woman is wearing a hairnet.\n",
      "1\n",
      "A dog is running through an obstacle course in front of a group of people. It is showcasing its agility\n",
      "Course is showcasing its agility\n",
      "0\n",
      "Several black children sit at a table with colorful laptops in front of them. It of black children with colorful laptops are sitting at a table.\n",
      "Front of black children with colorful laptops are sitting at a table.\n",
      "0\n"
     ]
    }
   ],
   "source": [
    "for ind, row in snli_dev_df.iterrows():\n",
    "    if random.random() < 0.01:\n",
    "        print(row['sentence1'])\n",
    "        print(row['sentence2'])\n",
    "        print(row['label'])"
   ]
  },
  {
   "cell_type": "markdown",
   "metadata": {},
   "source": [
    "### Try our WNLI scheme with coref model\n"
   ]
  },
  {
   "cell_type": "code",
   "execution_count": 112,
   "metadata": {},
   "outputs": [],
   "source": [
    "import spacy\n",
    "import sys\n",
    "sys.path.append(\"./../\")\n",
    "from wnli import WNLI"
   ]
  },
  {
   "cell_type": "code",
   "execution_count": 131,
   "metadata": {},
   "outputs": [],
   "source": [
    "ENTAILMENT = 1\n",
    "NOT_ENTAILMENT = 0\n",
    "MAJORITY = ENTAILMENT"
   ]
  },
  {
   "cell_type": "code",
   "execution_count": 134,
   "metadata": {},
   "outputs": [
    {
     "name": "stdout",
     "output_type": "stream",
     "text": [
      "sentence1    2507\n",
      "sentence2    2507\n",
      "label        2507\n",
      "dtype: int64\n",
      "sentence1    338\n",
      "sentence2    338\n",
      "label        338\n",
      "dtype: int64\n"
     ]
    }
   ],
   "source": [
    "print(snli_dev_df[(snli_dev_df['label'] == 1)].count())\n",
    "print(snli_dev_df[(snli_dev_df['label'] == 0)].count())"
   ]
  },
  {
   "cell_type": "code",
   "execution_count": 123,
   "metadata": {},
   "outputs": [
    {
     "name": "stdout",
     "output_type": "stream",
     "text": [
      "People getting ready to cut a birthday cake. They got ready to cut the cake\n",
      "They got ready to cut the cake\n"
     ]
    }
   ],
   "source": [
    "snli_dev_df[(snli_dev_df['sentence2'] == 'They got ready to cut the cake')]\n",
    "\n",
    "row = snli_dev_df.iloc[1221]\n",
    "print(row['sentence1'])\n",
    "print(row['sentence2'])"
   ]
  },
  {
   "cell_type": "code",
   "execution_count": 141,
   "metadata": {},
   "outputs": [
    {
     "name": "stdout",
     "output_type": "stream",
     "text": [
      "Could not use coref model for 789/2845 examples\n"
     ]
    }
   ],
   "source": [
    "snli_dev_majority = WNLI(nlp_lg, snli_dev_df, majority=MAJORITY, use_coref=False, debug=False)\n",
    "snli_dev_majority_labels = snli_dev_majority.predict()\n",
    "snli_dev_majority_score = snli_dev_majority.score(snli_dev_majority_labels)\n",
    "\n",
    "snli_dev = WNLI(nlp_lg, snli_dev_df, majority=MAJORITY, use_coref=True, debug=False)\n",
    "snli_dev_labels = snli_dev.predict()\n",
    "snli_dev_score = snli_dev.score(snli_dev_labels)"
   ]
  },
  {
   "cell_type": "code",
   "execution_count": 144,
   "metadata": {},
   "outputs": [
    {
     "name": "stdout",
     "output_type": "stream",
     "text": [
      "0.8811950790861159\n",
      "0.7065026362038664\n"
     ]
    }
   ],
   "source": [
    "print(snli_dev_majority_score)\n",
    "print(snli_dev_score)"
   ]
  },
  {
   "cell_type": "markdown",
   "metadata": {},
   "source": [
    "### MNLI"
   ]
  },
  {
   "cell_type": "markdown",
   "metadata": {},
   "source": [
    "### RTE (Entailment)"
   ]
  },
  {
   "cell_type": "markdown",
   "metadata": {},
   "source": [
    "### "
   ]
  }
 ],
 "metadata": {
  "kernelspec": {
   "display_name": "Python 3",
   "language": "python",
   "name": "python3"
  },
  "language_info": {
   "codemirror_mode": {
    "name": "ipython",
    "version": 3
   },
   "file_extension": ".py",
   "mimetype": "text/x-python",
   "name": "python",
   "nbconvert_exporter": "python",
   "pygments_lexer": "ipython3",
   "version": "3.6.7"
  }
 },
 "nbformat": 4,
 "nbformat_minor": 2
}
